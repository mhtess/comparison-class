{
 "cells": [
  {
   "cell_type": "markdown",
   "metadata": {},
   "source": [
    "# Setup:"
   ]
  },
  {
   "cell_type": "code",
   "execution_count": 185,
   "metadata": {},
   "outputs": [
    {
     "name": "stdout",
     "output_type": "stream",
     "text": [
      "Number of unique NPs (including responses): 496\n"
     ]
    }
   ],
   "source": [
    "import time\n",
    "import pandas as pd\n",
    "import seaborn as sns\n",
    "import matplotlib.pyplot as plt\n",
    "\n",
    "# Load experiment data\n",
    "filename = '../data/pilot-classElicitation-free-3/class-elicitation-free-3-trials.csv'\n",
    "df = pd.read_csv(filename)\n",
    "\n",
    "# Count unique NPs\n",
    "unique_nps = df['np'].append(df['response']).drop_duplicates().to_frame()\n",
    "unique_nps.columns = ['np']\n",
    "unique_nps.index = unique_nps['np']\n",
    "\n",
    "print('Number of unique NPs (including responses):', len(unique_nps))\n",
    "\n",
    "\n",
    "# Load word embedding data\n",
    "filename_with_sim = 'word-sim:08-14-15:34.csv'\n",
    "sim_df = pd.read_pickle(filename_with_sim).drop(columns = ['np'])\n",
    "\n",
    "sim_df['vec'] = sim_df['vec'].apply(lambda x: x.detach().numpy())\n"
   ]
  },
  {
   "cell_type": "markdown",
   "metadata": {},
   "source": [
    "# Querying Word Embeddings"
   ]
  },
  {
   "cell_type": "markdown",
   "metadata": {},
   "source": [
    "## Gensim (deprecated)"
   ]
  },
  {
   "cell_type": "code",
   "execution_count": 186,
   "metadata": {},
   "outputs": [],
   "source": [
    "import gensim.downloader as api\n",
    "import numpy as np\n",
    "\n",
    "def compute_sim_GENSIM(row, model, word1, word2):\n",
    "    try:\n",
    "        return model.similarity(row[word1], row[word2])\n",
    "    except KeyError as e:\n",
    "        return np.nan\n",
    "\n",
    "def compute_similarities_GENSIM(data, x, y, model_names, save = True):\n",
    "    ''' Given a pandas dataframe, compute the similarity between the words in two columns.\n",
    "        A new data frame is returned that is a duplicate of the original but also contains\n",
    "        columns for word similarity.\n",
    "\n",
    "        Note: If either word in a given row does not exist in the word embedding, similarity cannot be computed\n",
    "        and np.nan (not a number) is returned.\n",
    "\n",
    "        Keyword arguments:\n",
    "        data -- the pandas dataframe\n",
    "        x -- the name of the first column of words\n",
    "        y -- the name of the second column of words\n",
    "        model_names -- a list of gensim model names that should be used to compute similarity,\n",
    "                        each model will add a new column to the dataframe\n",
    "                        * See https://github.com/RaRe-Technologies/gensim-data for more info on model names\n",
    "        save -- Boolean representing if the dataframe should be saved to HDD as a csv file, Defaults to True\n",
    "    '''\n",
    "    import gensim.downloader as api\n",
    "\n",
    "    for model_name in model_names:\n",
    "\n",
    "        # load the model and give it a proper name in the data-frame\n",
    "        model = api.load(model_name)\n",
    "        name = 'sim_' + model_name.split('-')[0]\n",
    "\n",
    "        # compute the similarity between stim and response\n",
    "        data[name] = data.apply(lambda row: compute_sim_GENSIM(row, model, x, y), axis=1)\n",
    "\n",
    "        print(name, 'has completed!')\n",
    "\n",
    "\n",
    "    # models take a lot of time to compute, so save to csv each time\n",
    "    if save:\n",
    "        save_file = 'with-model:' + time.strftime(\"%m-%d-%H:%M\") + '.csv'\n",
    "        data.to_csv(save_file, encoding='utf-8', index=False)\n",
    "\n",
    "    return data\n",
    "\n",
    "# No longer using gensim!\n",
    "# compute_similarities_GENSIM(df, 'np', 'response', model_names = ['glove-wiki-gigaword-100'], save = True)"
   ]
  },
  {
   "cell_type": "markdown",
   "metadata": {},
   "source": [
    "## Flair Document Embedding (computed on Openmind)"
   ]
  },
  {
   "cell_type": "code",
   "execution_count": 187,
   "metadata": {},
   "outputs": [],
   "source": [
    "def get_word_vector(word, model, norm = False):\n",
    "    try:\n",
    "        vec = sim_df.at[word, model]\n",
    "\n",
    "        if norm:\n",
    "            vec = vec / np.linalg.norm(vec)\n",
    "        \n",
    "    except KeyError:\n",
    "        vec = np.nan\n",
    "        \n",
    "    return vec\n",
    "\n",
    "\n",
    "def append_similarity(data, x = 'np', y = 'response', add_raw_vectors = False):\n",
    "    ''' Given a pandas dataframe, compute the similarity between the words in two columns.\n",
    "        A new data frame is returned that is a duplicate of the original but also contains\n",
    "        columns for word similarity.\n",
    "\n",
    "        Note: If either word in a given row does not exist in the word embedding, similarity cannot be computed\n",
    "        and np.nan (not a number) is returned.\n",
    "\n",
    "        Keyword arguments:\n",
    "        data -- the pandas dataframe\n",
    "        x -- the name of the first column of words\n",
    "        y -- the name of the second column of words\n",
    "        model  -- 'glove' or fasttext\n",
    "    '''\n",
    "    \n",
    "     # Compute the normalized vector for each word\n",
    "    stim_vec = data[x].map(lambda x: get_word_vector(x, 'vec', norm = True))\n",
    "    response_vec = data[y].map(lambda x: get_word_vector(x, 'vec', norm = True)) \n",
    "    \n",
    "    embedding = pd.concat([stim_vec, response_vec], axis=1)\n",
    "    \n",
    "   \n",
    "    if add_raw_vectors:\n",
    "        data = data.assign(stim_vector = stim_vec,\n",
    "                           response_vector = response_vec)\n",
    "\n",
    "            \n",
    "    # Compute the cosine similarity\n",
    "    data['similarity'] = embedding.apply(lambda row: np.dot(row[x], row[y]), axis = 1)\n",
    "    \n",
    "    return data"
   ]
  },
  {
   "cell_type": "markdown",
   "metadata": {},
   "source": [
    "# Average Similarity Based on Positiveness"
   ]
  },
  {
   "cell_type": "code",
   "execution_count": 198,
   "metadata": {},
   "outputs": [
    {
     "name": "stderr",
     "output_type": "stream",
     "text": [
      "/home/jmadeano/.local/lib/python3.6/site-packages/ipykernel_launcher.py:42: SettingWithCopyWarning: \n",
      "A value is trying to be set on a copy of a slice from a DataFrame.\n",
      "Try using .loc[row_indexer,col_indexer] = value instead\n",
      "\n",
      "See the caveats in the documentation: http://pandas.pydata.org/pandas-docs/stable/indexing.html#indexing-view-versus-copy\n"
     ]
    },
    {
     "data": {
      "image/png": "[encoded data removed]",
      "text/plain": [
       "<Figure size 1296x720 with 1 Axes>"
      ]
     },
     "metadata": {},
     "output_type": "display_data"
    }
   ],
   "source": [
    "# Subset the data (remove metadata)\n",
    "vars_to_keep = ['adj_positiveness', 'np_positiveness', 'np', 'response']\n",
    "with_sim = df[vars_to_keep]\n",
    "\n",
    "# Add similarity ratings\n",
    "with_sim = append_similarity(with_sim).dropna()\n",
    "\n",
    "# Remove neither-nor examples, Create combined positiveness -> True if np_positiveness == adj_positive\n",
    "with_sim = with_sim[with_sim['np_positiveness'] != 'neither-nor']\n",
    "\n",
    "with_sim['combined_positiveness'] = with_sim.apply(lambda row: 1 if row['adj_positiveness'] == row['np_positiveness'] else 0, axis = 1)\n",
    "\n",
    "with_sim = with_sim.drop(columns = ['np_positiveness', 'adj_positiveness'])\n",
    "\n",
    "\n",
    "# Sort and subset the 5 most common NPs\n",
    "with_sim.sort_values(['combined_positiveness', 'np'])\n",
    "\n",
    "most_common_nps = with_sim['np'].value_counts().index.tolist()[:10]\n",
    "with_sim = with_sim[with_sim['np'].isin(most_common_nps)]\n",
    "\n",
    "# Plot with/without hue\n",
    "sns.set(style = 'whitegrid')\n",
    "\n",
    "fig, ax1 = plt.subplots(1,1)\n",
    "fig.set_size_inches(18, 10)\n",
    "\n",
    "ax = sns.barplot(x=\"np\", y=\"similarity\", hue = 'combined_positiveness', data = with_sim, ax = ax1)\n",
    "\n",
    "plt.show()\n"
   ]
  },
  {
   "cell_type": "code",
   "execution_count": null,
   "metadata": {},
   "outputs": [],
   "source": []
  },
  {
   "cell_type": "code",
   "execution_count": null,
   "metadata": {},
   "outputs": [],
   "source": []
  }
 ],
 "metadata": {
  "kernelspec": {
   "display_name": "Python 3",
   "language": "python",
   "name": "python3"
  },
  "language_info": {
   "codemirror_mode": {
    "name": "ipython",
    "version": 3
   },
   "file_extension": ".py",
   "mimetype": "text/x-python",
   "name": "python",
   "nbconvert_exporter": "python",
   "pygments_lexer": "ipython3",
   "version": "3.6.8"
  }
 },
 "nbformat": 4,
 "nbformat_minor": 2
}
